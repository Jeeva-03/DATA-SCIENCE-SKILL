{
 "cells": [
  {
   "cell_type": "markdown",
   "metadata": {},
   "source": [
    "# 1.List\n",
    "i) Create a list named as Vehicle, in this list contains some vehicle names  wagons, bicycles,\n",
    "motor vehicles, cars, railed vehicles, watercraft, aircraft and spacecraft.\n",
    "\n",
    "ii) create another list named as four wheeler contains Van ,Taxi, Police car, Bus, Ambulance\n",
    "\n",
    "iii) Reverse the Vehicle list\n",
    "\n",
    "iv) Iterate both lists simultaneously such that list1 should display item in original order and list2\n",
    "in reverse order\n",
    "\n",
    "v) Remove empty strings from the list of strings"
   ]
  },
  {
   "cell_type": "code",
   "execution_count": 71,
   "metadata": {
    "scrolled": false
   },
   "outputs": [
    {
     "name": "stdout",
     "output_type": "stream",
     "text": [
      "list1 created: ['wagons', 'bicycles', 'motor vehicles', 'cars', 'railed vehicles', 'watercraft', 'aircraft', 'spacecraft']\n",
      "\n",
      "list2 created: ['Van', 'taxi', 'Police car', 'Bus', 'Ambulance']\n",
      "\n",
      "reversing\n",
      "['spacecraft', 'aircraft', 'watercraft', 'railed vehicles', 'cars', 'motor vehicles', 'bicycles', 'wagons']\n",
      "\n",
      "spacecraft\n",
      "Ambulance\n",
      "\n",
      "aircraft\n",
      "Bus\n",
      "\n",
      "watercraft\n",
      "Police car\n",
      "\n",
      "railed vehicles\n",
      "taxi\n",
      "\n",
      "cars\n",
      "Van\n",
      "\n",
      "motor vehicles\n",
      "bicycles\n",
      "wagons\n",
      "Before removing empty strings\n",
      "['guru', 'bharan', '', 'by their appearance', \"don't judge anyone skills\", '', 'nmg']\n",
      "\n",
      "After removing empty strings\n",
      "['guru', 'bharan', 'by their appearance', \"don't judge anyone skills\", 'nmg']\n"
     ]
    }
   ],
   "source": [
    "Vehicle=['wagons','bicycles','motor vehicles','cars','railed vehicles','watercraft','aircraft','spacecraft']\n",
    "print(\"list1 created:\",Vehicle)\n",
    "print()\n",
    "l=len(Vehicle)\n",
    "four_wheeler=['Van','taxi','Police car','Bus','Ambulance']\n",
    "print(\"list2 created:\",four_wheeler)\n",
    "print()\n",
    "#REVERSING VECHILE LIST\n",
    "print(\"reversing\")\n",
    "Vehicle.reverse()\n",
    "print(Vehicle)\n",
    "print()\n",
    "#Iterate both lists simultaneously such that list1 should display item in original order and list2 in reverse order\n",
    "lv=len(Vehicle)\n",
    "lf=len(four_wheeler)\n",
    "four_wheeler.reverse()\n",
    "if(lv<lf):\n",
    "    large=lf\n",
    "else:\n",
    "    large=lv\n",
    "for i in range(large):\n",
    "    if i<len(Vehicle):\n",
    "        print(Vehicle[i])\n",
    "    if i<len(four_wheeler):\n",
    "        print(four_wheeler[i])\n",
    "        print()\n",
    "# removing empty string\n",
    "a=['guru','bharan','',\"by their appearance\",\"don't judge anyone skills\",'','nmg']\n",
    "\n",
    "print(\"Before removing empty strings\")\n",
    "print(a)\n",
    "c=a.count('')\n",
    "for i in range(c):\n",
    "    a.remove('')\n",
    "print()\n",
    "print(\"After removing empty strings\")\n",
    "print(a)    \n",
    "\n",
    "#Vehicle=['hercules','Duke','Jaguar','battleship','rairoad car','fighter','Rover']"
   ]
  },
  {
   "cell_type": "code",
   "execution_count": 23,
   "metadata": {},
   "outputs": [
    {
     "name": "stdout",
     "output_type": "stream",
     "text": [
      "Befor removing\n",
      "['guru', '', 'hi', 'we are strong enough', '', 'nmg']\n",
      "after removing\n",
      "['guru', 'hi', 'we are strong enough', 'nmg']\n"
     ]
    }
   ],
   "source": [
    "# removing empty string\n",
    "a=['guru','',\"hi\",\"we are strong enough\",'','nmg']\n",
    "print(\"Befor removing\")\n",
    "print(a)\n",
    "c=a.count('')\n",
    "for i in range(c):\n",
    "    a.remove('')\n",
    "print(\"after removing\")\n",
    "print(a)"
   ]
  },
  {
   "cell_type": "markdown",
   "metadata": {},
   "source": [
    "# 2.Tuples\n",
    "i) Unpack the following tuple into 4 variables\n",
    "\n",
    "aTuple = (10, 20, 30, 40)\n",
    "\n",
    "Expected output:\n",
    "\n",
    "aTuple = (10, 20, 30, 40)\n",
    "\n",
    "#Your code\n",
    "print(a) # should print 10\n",
    "print(b) # should print 20\n",
    "print(c) # should print 30\n",
    "print(d) # should print 40 "
   ]
  },
  {
   "cell_type": "code",
   "execution_count": 26,
   "metadata": {},
   "outputs": [
    {
     "name": "stdout",
     "output_type": "stream",
     "text": [
      "(10, 20, 30, 40)\n",
      "10\n",
      "20\n",
      "30\n",
      "40\n"
     ]
    }
   ],
   "source": [
    "aTuple=(10,20,30,40)\n",
    "print(aTuple)\n",
    "a=aTuple[0]\n",
    "b=aTuple[1]\n",
    "c=aTuple[2]\n",
    "d=aTuple[3]\n",
    "print(a)\n",
    "print(b)\n",
    "print(c)\n",
    "print(d)"
   ]
  },
  {
   "cell_type": "markdown",
   "metadata": {},
   "source": [
    "# ii) Swap the following two tuples\n",
    "tuple1 = (11, 22)\n",
    "tuple2 = (99, 88)"
   ]
  },
  {
   "cell_type": "code",
   "execution_count": 27,
   "metadata": {},
   "outputs": [
    {
     "name": "stdout",
     "output_type": "stream",
     "text": [
      "before swapping\n",
      "(11, 22)\n",
      "(99, 88)\n",
      "After swapping\n",
      "(99, 88)\n",
      "(11, 22)\n"
     ]
    }
   ],
   "source": [
    "tuple1,tuple2=(11, 22),(99,88)\n",
    "print(\"before swapping\")\n",
    "print(tuple1)\n",
    "print(tuple2)\n",
    "\n",
    "print(\"After swapping\")\n",
    "tuple1,tuple2=(99, 88),(11, 22)\n",
    "print(tuple1)\n",
    "print(tuple2)"
   ]
  },
  {
   "cell_type": "markdown",
   "metadata": {},
   "source": [
    "# iii) Counts the number of occurrences of item 50 from a tuple\n",
    "\n",
    "tuple1 = (50, 10, 60, 70, 50)"
   ]
  },
  {
   "cell_type": "code",
   "execution_count": 9,
   "metadata": {},
   "outputs": [
    {
     "name": "stdout",
     "output_type": "stream",
     "text": [
      "50 has 2 times in this Tuple named tuple1\n"
     ]
    }
   ],
   "source": [
    "tuple1 = (50, 10, 60, 70, 50)\n",
    "c=tuple1.count(50)\n",
    "print(\"50 has\",c,\"times in this Tuple named tuple1\")"
   ]
  },
  {
   "cell_type": "markdown",
   "metadata": {},
   "source": [
    "# 3.Sets\n",
    "\n",
    "i) Returns a new set with all items from both sets by removing duplicates\n",
    "\n",
    "set1 = {10, 20, 30, 40, 50}\n",
    "set2 = {30, 40, 50, 60, 70}\n",
    "Expected output:\n",
    "{70, 40, 10, 50, 20, 60, 30} "
   ]
  },
  {
   "cell_type": "code",
   "execution_count": 33,
   "metadata": {},
   "outputs": [
    {
     "name": "stdout",
     "output_type": "stream",
     "text": [
      "{70, 40, 10, 50, 20, 60, 30}\n"
     ]
    }
   ],
   "source": [
    "set1 = {10, 20, 30, 40, 50}\n",
    "set2 = {30, 40, 50, 60, 70}\n",
    "Set=set1.union(set2)\n",
    "print(Set)"
   ]
  },
  {
   "cell_type": "markdown",
   "metadata": {},
   "source": [
    "# ii) Given two Python sets, update the first set with items that exist only in the first set and\n",
    "not in the second set.\n",
    "set1 = {10, 20, 30}\n",
    "set2 = {20, 40, 50}\n",
    "Expected output:\n",
    "set1 {10, 30}"
   ]
  },
  {
   "cell_type": "code",
   "execution_count": 35,
   "metadata": {},
   "outputs": [
    {
     "name": "stdout",
     "output_type": "stream",
     "text": [
      "{10, 30}\n"
     ]
    }
   ],
   "source": [
    "set1 = {10, 20, 30}\n",
    "set2 = {20, 40, 50}\n",
    "S=set1.difference(set2)\n",
    "print(S)"
   ]
  },
  {
   "cell_type": "markdown",
   "metadata": {},
   "source": [
    "# iii) Check if two sets have any elements in common. If yes, display the common elements."
   ]
  },
  {
   "cell_type": "code",
   "execution_count": 42,
   "metadata": {},
   "outputs": [
    {
     "name": "stdout",
     "output_type": "stream",
     "text": [
      "{50, 99, 87, 55}\n",
      "50\n",
      "99\n",
      "87\n",
      "55\n"
     ]
    }
   ],
   "source": [
    "set1={10,20,50,40,99,87,55}\n",
    "set2={50,6,32,99,87,55,90}\n",
    "i=set1.intersection(set2)\n",
    "print(i)\n",
    "for j in i:\n",
    "    print(j)"
   ]
  },
  {
   "cell_type": "markdown",
   "metadata": {},
   "source": [
    "# 4) Dictionary\n",
    "i) Below are the two lists convert it into the dictionary\n",
    " keys= ['Ten','Twenty','Thirty']\n",
    " values=[10,20,30]"
   ]
  },
  {
   "cell_type": "code",
   "execution_count": 39,
   "metadata": {},
   "outputs": [
    {
     "name": "stdout",
     "output_type": "stream",
     "text": [
      "{'Ten': 10, 'Twenty': 20, 'Thirty': 30}\n"
     ]
    }
   ],
   "source": [
    "keys= ['Ten','Twenty','Thirty'] \n",
    "values=[10,20,30]\n",
    "d={}\n",
    "for i in keys:\n",
    "    for j in values:\n",
    "        d[i]=j\n",
    "        values.remove(j)\n",
    "        break\n",
    "print(d)"
   ]
  },
  {
   "cell_type": "markdown",
   "metadata": {},
   "source": [
    "# ii) Merge following two Python dictionaries into one\n",
    "dict1={'Ten':10,'Twenty':20,'Thirty':30}\n",
    "dict2={'Fourty':40,'Fifty':50}\n",
    "Expected output:\n",
    "{'Ten': 10, 'Twenty': 20, 'Thirty': 30, 'FOurty': 40, 'Fifty': 50}"
   ]
  },
  {
   "cell_type": "code",
   "execution_count": 32,
   "metadata": {},
   "outputs": [
    {
     "name": "stdout",
     "output_type": "stream",
     "text": [
      "{'Ten': 10, 'Twenty': 20, 'Thirty': 30, 'Fourty': 40, 'Fifty': 50}\n"
     ]
    }
   ],
   "source": [
    "dict1={'Ten':10,'Twenty':20,'Thirty':30}\n",
    "dict2={'Fourty':40,'Fifty':50}\n",
    "dict1.update(dict2)\n",
    "print(dict1)"
   ]
  },
  {
   "cell_type": "markdown",
   "metadata": {},
   "source": [
    "# iii) Create a new dictionary by extracting the following keys from a below dictionary\n",
    "Given dictionary:\n",
    "sampledict={'name':'kelly','age':25,'salary':8000,'city':'New York'}\n",
    "\n",
    "Keys to extract: keys ={'name','salary'}"
   ]
  },
  {
   "cell_type": "code",
   "execution_count": 9,
   "metadata": {
    "scrolled": true
   },
   "outputs": [
    {
     "name": "stdout",
     "output_type": "stream",
     "text": [
      "{'name': 'kelly', 'salary': 8000}\n"
     ]
    }
   ],
   "source": [
    "sampledict={'name':'kelly','age':25,'salary':8000,'city':'New York'}\n",
    "keys=['name','salary']\n",
    "for i in keys:\n",
    "    new_dict[i]=sampledict[i]\n",
    "print(dict(new_dict))"
   ]
  },
  {
   "cell_type": "code",
   "execution_count": null,
   "metadata": {},
   "outputs": [],
   "source": []
  },
  {
   "cell_type": "code",
   "execution_count": null,
   "metadata": {},
   "outputs": [],
   "source": []
  },
  {
   "cell_type": "code",
   "execution_count": null,
   "metadata": {},
   "outputs": [],
   "source": []
  },
  {
   "cell_type": "code",
   "execution_count": 10,
   "metadata": {},
   "outputs": [
    {
     "name": "stdout",
     "output_type": "stream",
     "text": [
      "{dict_values(['kelly', 25, 8000, 'New York'])}\n"
     ]
    }
   ],
   "source": [
    "sampledict={'name':'kelly','age':25,'salary':8000,'city':'New York'}\n",
    "new_dict={}\n",
    "new_dict={sampledict.values()}\n",
    "print(new_dict)"
   ]
  },
  {
   "cell_type": "code",
   "execution_count": 81,
   "metadata": {},
   "outputs": [
    {
     "name": "stdout",
     "output_type": "stream",
     "text": [
      "kelly\n",
      "<class 'dict'>\n"
     ]
    }
   ],
   "source": [
    "a=sampledict['name']\n",
    "print(a)\n",
    "print(type(sampledict))"
   ]
  },
  {
   "cell_type": "code",
   "execution_count": 80,
   "metadata": {},
   "outputs": [
    {
     "name": "stdout",
     "output_type": "stream",
     "text": [
      "{'name': ('kelly', 250), 'age': ('kelly', 250)}\n"
     ]
    }
   ],
   "source": [
    "a=('name','age')\n",
    "b=('kelly',250)\n",
    "c=dict.fromkeys(a,b)\n",
    "print(c)"
   ]
  }
 ],
 "metadata": {
  "kernelspec": {
   "display_name": "Python 3",
   "language": "python",
   "name": "python3"
  },
  "language_info": {
   "codemirror_mode": {
    "name": "ipython",
    "version": 3
   },
   "file_extension": ".py",
   "mimetype": "text/x-python",
   "name": "python",
   "nbconvert_exporter": "python",
   "pygments_lexer": "ipython3",
   "version": "3.8.5"
  }
 },
 "nbformat": 4,
 "nbformat_minor": 4
}
